{
  "nbformat": 4,
  "nbformat_minor": 0,
  "metadata": {
    "colab": {
      "name": "Tensorflow.ipynb",
      "provenance": [],
      "collapsed_sections": [],
      "authorship_tag": "ABX9TyO6ZUQhgTeq9FWhVEQ4mkL9",
      "include_colab_link": true
    },
    "kernelspec": {
      "name": "python3",
      "display_name": "Python 3"
    },
    "language_info": {
      "name": "python"
    }
  },
  "cells": [
    {
      "cell_type": "markdown",
      "metadata": {
        "id": "view-in-github",
        "colab_type": "text"
      },
      "source": [
        "<a href=\"https://colab.research.google.com/github/yareenm/Tensorflow_Practice/blob/main/Tensorflow.ipynb\" target=\"_parent\"><img src=\"https://colab.research.google.com/assets/colab-badge.svg\" alt=\"Open In Colab\"/></a>"
      ]
    },
    {
      "cell_type": "code",
      "metadata": {
        "id": "gE8ExowsOd-E"
      },
      "source": [
        "import pandas as pd\n",
        "import numpy as np"
      ],
      "execution_count": 3,
      "outputs": []
    },
    {
      "cell_type": "code",
      "metadata": {
        "id": "cdQZj3dIhHOy"
      },
      "source": [
        "dataFrame = pd.read_excel('bisiklet_fiyatlari.xlsx')"
      ],
      "execution_count": 11,
      "outputs": []
    },
    {
      "cell_type": "code",
      "metadata": {
        "colab": {
          "base_uri": "https://localhost:8080/",
          "height": 295
        },
        "id": "ZyvwQPdLhN0k",
        "outputId": "57de287b-e719-40cb-ef38-bc08c047947b"
      },
      "source": [
        "dataFrame.head(n=8)"
      ],
      "execution_count": 13,
      "outputs": [
        {
          "output_type": "execute_result",
          "data": {
            "text/html": [
              "<div>\n",
              "<style scoped>\n",
              "    .dataframe tbody tr th:only-of-type {\n",
              "        vertical-align: middle;\n",
              "    }\n",
              "\n",
              "    .dataframe tbody tr th {\n",
              "        vertical-align: top;\n",
              "    }\n",
              "\n",
              "    .dataframe thead th {\n",
              "        text-align: right;\n",
              "    }\n",
              "</style>\n",
              "<table border=\"1\" class=\"dataframe\">\n",
              "  <thead>\n",
              "    <tr style=\"text-align: right;\">\n",
              "      <th></th>\n",
              "      <th>Fiyat</th>\n",
              "      <th>BisikletOzellik1</th>\n",
              "      <th>BisikletOzellik2</th>\n",
              "    </tr>\n",
              "  </thead>\n",
              "  <tbody>\n",
              "    <tr>\n",
              "      <th>0</th>\n",
              "      <td>807.673876</td>\n",
              "      <td>1749.628226</td>\n",
              "      <td>1749.590668</td>\n",
              "    </tr>\n",
              "    <tr>\n",
              "      <th>1</th>\n",
              "      <td>959.227520</td>\n",
              "      <td>1748.007826</td>\n",
              "      <td>1751.824206</td>\n",
              "    </tr>\n",
              "    <tr>\n",
              "      <th>2</th>\n",
              "      <td>718.020033</td>\n",
              "      <td>1750.122967</td>\n",
              "      <td>1747.977026</td>\n",
              "    </tr>\n",
              "    <tr>\n",
              "      <th>3</th>\n",
              "      <td>945.668885</td>\n",
              "      <td>1749.916440</td>\n",
              "      <td>1750.771646</td>\n",
              "    </tr>\n",
              "    <tr>\n",
              "      <th>4</th>\n",
              "      <td>955.542968</td>\n",
              "      <td>1750.780519</td>\n",
              "      <td>1750.592430</td>\n",
              "    </tr>\n",
              "    <tr>\n",
              "      <th>5</th>\n",
              "      <td>950.221425</td>\n",
              "      <td>1749.463071</td>\n",
              "      <td>1751.099011</td>\n",
              "    </tr>\n",
              "    <tr>\n",
              "      <th>6</th>\n",
              "      <td>972.099912</td>\n",
              "      <td>1750.482746</td>\n",
              "      <td>1750.778662</td>\n",
              "    </tr>\n",
              "    <tr>\n",
              "      <th>7</th>\n",
              "      <td>730.747018</td>\n",
              "      <td>1750.724858</td>\n",
              "      <td>1748.037351</td>\n",
              "    </tr>\n",
              "  </tbody>\n",
              "</table>\n",
              "</div>"
            ],
            "text/plain": [
              "        Fiyat  BisikletOzellik1  BisikletOzellik2\n",
              "0  807.673876       1749.628226       1749.590668\n",
              "1  959.227520       1748.007826       1751.824206\n",
              "2  718.020033       1750.122967       1747.977026\n",
              "3  945.668885       1749.916440       1750.771646\n",
              "4  955.542968       1750.780519       1750.592430\n",
              "5  950.221425       1749.463071       1751.099011\n",
              "6  972.099912       1750.482746       1750.778662\n",
              "7  730.747018       1750.724858       1748.037351"
            ]
          },
          "metadata": {},
          "execution_count": 13
        }
      ]
    },
    {
      "cell_type": "markdown",
      "metadata": {
        "id": "2FFFg0kP5EC3"
      },
      "source": [
        "## Veriyi visualize etmek için kullanabileceğimiz yöntemler"
      ]
    },
    {
      "cell_type": "code",
      "metadata": {
        "id": "7pXhELJdic_0"
      },
      "source": [
        "import seaborn as sbn\n",
        "import matplotlib.pyplot as plt"
      ],
      "execution_count": 15,
      "outputs": []
    },
    {
      "cell_type": "code",
      "metadata": {
        "colab": {
          "base_uri": "https://localhost:8080/",
          "height": 567
        },
        "id": "_xs1JHHVizR3",
        "outputId": "87aa8936-72ef-4e02-8c17-45e9c3520edf"
      },
      "source": [
        "sbn.pairplot(dataFrame)"
      ],
      "execution_count": 17,
      "outputs": [
        {
          "output_type": "execute_result",
          "data": {
            "text/plain": [
              "<seaborn.axisgrid.PairGrid at 0x7fabe8876ad0>"
            ]
          },
          "metadata": {},
          "execution_count": 17
        },
        {
          "output_type": "display_data",
          "data": {
            "image/png": "[encoded data removed]",
            "text/plain": [
              "<Figure size 540x540 with 12 Axes>"
            ]
          },
          "metadata": {
            "needs_background": "light"
          }
        }
      ]
    },
    {
      "cell_type": "markdown",
      "metadata": {
        "id": "DGfjZHLy4h2s"
      },
      "source": [
        "## **Veriyi test ve train olmak üzere iki gruba ayırıyoruz. İstediğimiz oran bazında ayrım gerçekleştiriyoruz.**"
      ]
    },
    {
      "cell_type": "code",
      "metadata": {
        "id": "O6zarqZ4i7j4"
      },
      "source": [
        "from sklearn.model_selection import train_test_split"
      ],
      "execution_count": 18,
      "outputs": []
    },
    {
      "cell_type": "code",
      "metadata": {
        "id": "qI_K1gaX5dvr"
      },
      "source": [
        "#train_test_split"
      ],
      "execution_count": null,
      "outputs": []
    },
    {
      "cell_type": "code",
      "metadata": {
        "id": "0GW50Jz25AyE"
      },
      "source": [
        "# y = wx+b\n",
        "# y -> label\n",
        "y=dataFrame['Fiyat'].values\n",
        "# x -> feature\n",
        "x=dataFrame[['BisikletOzellik1','BisikletOzellik2']].values\n",
        "# atanma sırasını değiştirmemeliyiz çünkü fonksiyon o şekilde dönüş sağlıyor\n",
        "x_train, x_test, y_train, y_test = train_test_split(x,y,test_size=0.33,random_state=15)"
      ],
      "execution_count": 23,
      "outputs": []
    },
    {
      "cell_type": "code",
      "metadata": {
        "colab": {
          "base_uri": "https://localhost:8080/"
        },
        "id": "O-aGnweZ6fAd",
        "outputId": "91463b1d-3dcc-4880-ad88-66f53dd037e8"
      },
      "source": [
        "x_train.shape"
      ],
      "execution_count": 26,
      "outputs": [
        {
          "output_type": "execute_result",
          "data": {
            "text/plain": [
              "(670, 2)"
            ]
          },
          "metadata": {},
          "execution_count": 26
        }
      ]
    },
    {
      "cell_type": "code",
      "metadata": {
        "colab": {
          "base_uri": "https://localhost:8080/"
        },
        "id": "85WoH1Ui7jlk",
        "outputId": "ebff8842-fbe4-43ae-fd20-3834706c3c67"
      },
      "source": [
        "x_test.shape"
      ],
      "execution_count": 27,
      "outputs": [
        {
          "output_type": "execute_result",
          "data": {
            "text/plain": [
              "(330, 2)"
            ]
          },
          "metadata": {},
          "execution_count": 27
        }
      ]
    },
    {
      "cell_type": "code",
      "metadata": {
        "colab": {
          "base_uri": "https://localhost:8080/"
        },
        "id": "kWvDTEUL7uzO",
        "outputId": "eca7cb3f-fc0c-47a5-d6d8-799012c2201f"
      },
      "source": [
        "y_train"
      ],
      "execution_count": 28,
      "outputs": [
        {
          "output_type": "execute_result",
          "data": {
            "text/plain": [
              "array([ 928.6952754, 1263.961903 ,  539.3910047,  909.0602356,\n",
              "        827.5599926,  755.0897782,  871.0148095,  987.1951914,\n",
              "       1072.273843 ,  694.625345 ,  750.4756224,  705.8022573,\n",
              "        937.9704699,  699.7664082,  836.6511441,  957.4757753,\n",
              "        692.5542986,  879.9817511, 1083.133861 ,  961.2584546,\n",
              "        799.7283271,  890.4446699, 1043.475329 ,  581.3983762,\n",
              "        921.2831591,  904.7251741,  749.7572009,  871.8325006,\n",
              "        965.3876743, 1055.197693 , 1042.743866 ,  766.9644604,\n",
              "       1129.98977  ,  775.1337641,  889.7252105,  704.0185578,\n",
              "        937.2014327,  601.5369815, 1068.018878 ,  864.2491913,\n",
              "        845.4859474, 1028.047418 ,  659.9882841,  812.2027726,\n",
              "       1116.252739 ,  862.5282243,  888.309265 ,  781.6579817,\n",
              "        988.8845581,  908.5516566,  811.7080229,  927.5018276,\n",
              "        833.1474785, 1026.479661 , 1078.893552 ,  717.4170105,\n",
              "        885.0577122,  836.6405309,  955.8568831, 1149.145803 ,\n",
              "        806.2158674,  707.2491908, 1093.736882 ,  720.3664031,\n",
              "       1037.326354 ,  912.8278027,  849.9249567,  927.736401 ,\n",
              "        892.5516402,  748.7497559,  823.4706156,  730.6971461,\n",
              "       1073.496601 ,  880.0915783,  724.2231156,  906.512419 ,\n",
              "        932.0964304,  636.0031634, 1064.22407  ,  915.4712599,\n",
              "        977.1114374,  990.4426537, 1060.881429 ,  810.8716063,\n",
              "       1168.489989 ,  740.4790683, 1331.139279 ,  637.0612742,\n",
              "        799.2617369,  511.3356169,  894.0515709,  853.5413535,\n",
              "        926.5190196,  852.7738289,  592.5022414,  950.2419499,\n",
              "        737.6766451,  948.597673 , 1005.402312 , 1000.48596  ,\n",
              "        889.3496186,  781.5718924,  776.6672181,  917.5676655,\n",
              "        930.0941514, 1014.740626 ,  519.7322318,  939.0336703,\n",
              "        842.8801731,  864.4373629, 1031.246646 ,  712.9683853,\n",
              "        875.2328302,  758.6556778,  616.4945276,  876.2632284,\n",
              "       1049.83503  ,  862.0579003, 1027.42736  ,  760.6019926,\n",
              "       1080.826423 ,  523.9402248,  967.8844303, 1108.363012 ,\n",
              "        880.7236528,  812.7786592, 1056.422331 ,  938.071591 ,\n",
              "       1086.957998 ,  711.0047944,  844.4737208,  635.1076831,\n",
              "        981.1162464,  643.7987325,  900.0486227,  684.7145827,\n",
              "        628.5913899,  643.6358327,  965.2540239,  826.1184125,\n",
              "        822.1549425, 1089.150079 ,  967.5559758, 1019.296366 ,\n",
              "        993.0614535,  924.384777 , 1226.72144  ,  635.4500877,\n",
              "        907.130692 , 1027.371082 , 1076.042305 , 1042.101341 ,\n",
              "        870.4719071,  951.7029885,  913.1053005,  836.5842065,\n",
              "        870.6100942,  534.4888714,  918.0318982,  841.5353327,\n",
              "        794.5238532,  800.9674507,  764.1719034, 1163.832937 ,\n",
              "        855.9208135,  693.3439994,  981.1865908,  714.5008532,\n",
              "        906.9604675, 1042.202756 , 1111.857366 ,  814.061551 ,\n",
              "        894.5890742,  939.9691706, 1090.245875 ,  718.0200329,\n",
              "        901.6266048, 1216.391126 , 1109.934513 , 1090.345367 ,\n",
              "        930.4083931,  869.5583342, 1056.025118 , 1014.121514 ,\n",
              "        790.762734 , 1198.877864 ,  816.3578511,  880.6282464,\n",
              "        831.9017301,  990.3883509,  873.6216146,  957.7326352,\n",
              "        682.8661644, 1069.508365 ,  784.7521757, 1022.514764 ,\n",
              "        758.4686205,  957.3775171,  789.2081251,  759.9817449,\n",
              "        900.2098715,  917.6495921,  638.4911887,  847.1904158,\n",
              "        775.5771059,  807.4163757, 1058.393916 , 1027.788598 ,\n",
              "       1090.432788 ,  598.6033654,  983.5045088,  679.0456123,\n",
              "        701.1111657,  769.3884454,  896.0871365, 1139.943226 ,\n",
              "        775.6082   ,  792.2853739,  847.9801838,  939.3954013,\n",
              "        785.7956219,  974.07127  ,  743.9357773,  737.6916143,\n",
              "        978.3266243,  752.3519727, 1061.020383 ,  724.5070093,\n",
              "        815.4996614,  603.7706849,  902.6122804,  676.955265 ,\n",
              "        955.5429676,  838.0000826,  595.1017487,  997.617767 ,\n",
              "        886.3814846, 1024.024211 ,  920.8688058, 1220.987527 ,\n",
              "       1023.624766 ,  855.674057 , 1088.556088 ,  648.7981107,\n",
              "       1058.002075 ,  695.8360433,  802.4238209,  918.6923016,\n",
              "        761.7077182, 1012.530061 ,  779.7699375,  927.8681979,\n",
              "        772.4276702, 1038.153409 , 1125.487881 , 1053.093665 ,\n",
              "       1149.7029   ,  608.7835482, 1048.892414 , 1131.2374   ,\n",
              "       1256.948945 ,  821.1820059,  860.6549214, 1009.56212  ,\n",
              "        999.0301753,  988.7944656, 1081.71598  , 1189.81629  ,\n",
              "        743.0647136,  907.7360288,  944.4469953,  901.043046 ,\n",
              "        813.74021  ,  972.0999123, 1024.527224 ,  842.6835597,\n",
              "        884.9622403,  778.6532843,  805.3217485,  696.2936631,\n",
              "       1120.708492 , 1245.401103 , 1005.502881 ,  775.9448123,\n",
              "       1038.918642 ,  988.5928901,  564.0501159,  725.820291 ,\n",
              "       1105.806025 ,  757.4378348,  808.9241953,  857.493814 ,\n",
              "        876.9166039,  762.1488428,  989.1874211,  816.8772926,\n",
              "        745.2263892,  736.8531562,  630.4062186,  730.1680261,\n",
              "        582.8915284,  554.7040361,  842.1107607,  911.7030297,\n",
              "       1062.983955 , 1087.794806 , 1012.41675  ,  542.8339931,\n",
              "       1151.4211   , 1126.217001 ,  692.1508565, 1050.644778 ,\n",
              "        704.8800661,  478.5071165,  633.9203211, 1119.682134 ,\n",
              "        773.3341468, 1011.892036 , 1115.225319 ,  992.3287114,\n",
              "        921.771779 ,  784.9085023,  730.7470179,  963.0134511,\n",
              "       1150.203056 ,  951.8573918,  960.0751309,  913.1447368,\n",
              "        652.8583381,  570.1409046, 1104.899953 ,  773.8010488,\n",
              "        990.9755197, 1035.770911 ,  995.0583615,  782.3430833,\n",
              "        864.9403685, 1134.872439 ,  532.7570766, 1151.034939 ,\n",
              "        833.124652 ,  663.442186 ,  786.4782079,  793.5520207,\n",
              "       1067.660488 ,  946.301683 ,  842.667647 ,  790.8712268,\n",
              "        981.3907561,  979.6232695,  965.2301057,  729.0144262,\n",
              "       1136.520119 , 1126.454907 ,  702.2405897, 1013.151096 ,\n",
              "        919.723311 , 1056.308543 ,  841.0484513,  711.5781174,\n",
              "        573.2300709, 1166.272989 ,  969.3331003,  758.4765026,\n",
              "        929.735707 , 1042.940184 ,  988.6724423,  839.4905341,\n",
              "        649.6421813,  668.2427324,  933.5974596,  568.8524138,\n",
              "       1009.491965 ,  718.4419368,  855.8507159,  744.1073877,\n",
              "       1071.852534 ,  722.9262504,  921.6788307,  894.8917387,\n",
              "        895.2752098,  870.563272 , 1165.608895 ,  760.7140691,\n",
              "       1080.41041  , 1067.446722 ,  897.0216107,  816.7328016,\n",
              "        897.042478 ,  973.667746 ,  835.5034035,  955.9049148,\n",
              "        832.9072434,  901.5081948,  927.9834536, 1199.128946 ,\n",
              "        819.128182 ,  847.8077851, 1124.148934 ,  896.2651556,\n",
              "        639.7315357,  984.5954567, 1016.541058 ,  822.2766766,\n",
              "        969.2899932, 1057.193657 ,  799.8542792,  950.4423736,\n",
              "        935.842904 ,  728.6567806,  751.5770416, 1045.997001 ,\n",
              "        914.2523848,  591.4147658, 1280.141727 ,  747.8967471,\n",
              "       1014.227357 , 1017.699422 ,  843.2599106, 1274.947776 ,\n",
              "        840.4027149,  878.3108043, 1098.370287 ,  879.127048 ,\n",
              "        714.2135013,  962.388641 , 1048.740887 , 1014.528968 ,\n",
              "       1284.98388  , 1103.573869 ,  807.6613425,  950.2214253,\n",
              "        665.244736 ,  741.3954331,  716.9343268,  932.8761891,\n",
              "        739.274262 ,  717.8015021, 1099.95374  ,  707.2262515,\n",
              "        977.7039466,  757.9140967,  898.659531 ,  674.4439798,\n",
              "        938.0103884, 1180.044286 ,  656.4907075,  786.1489526,\n",
              "        791.6516708,  767.8365029,  790.6349523,  830.111273 ,\n",
              "        835.7877778,  575.8673115,  632.4962091,  927.0095027,\n",
              "        788.2434773,  860.6367116,  554.6635371,  732.3000622,\n",
              "        990.6008689, 1092.432411 ,  625.3489093, 1004.216972 ,\n",
              "        786.3242535,  665.6904921,  722.5870342,  591.734223 ,\n",
              "        665.8348876, 1132.882729 ,  560.3987102, 1005.512161 ,\n",
              "       1002.187256 ,  643.7979826, 1008.562526 , 1157.037645 ,\n",
              "        833.9206369,  625.2678503,  900.3383662,  566.5565644,\n",
              "        894.0488371, 1005.795019 ,  654.8458049,  820.8774676,\n",
              "        577.6440289, 1040.70163  ,  949.1335857,  634.7041327,\n",
              "        887.4214822,  839.2458684,  647.3503977,  962.7493093,\n",
              "        691.4607933,  919.9831491,  853.0716669,  626.1947566,\n",
              "        627.9885731, 1041.916656 ,  917.9956705,  843.3695733,\n",
              "        978.0354778,  847.0341714,  807.0640288,  857.1405462,\n",
              "       1028.550395 ,  705.3594865,  807.6738764,  968.3173456,\n",
              "       1017.183255 ,  693.0975394,  921.0118393,  823.3059065,\n",
              "        859.2462795,  972.9996273,  908.8212167,  989.5097974,\n",
              "        835.2021959,  657.3402912,  958.5309692,  684.0096871,\n",
              "        805.040758 ,  686.0827202,  894.0375125, 1267.825783 ,\n",
              "       1131.941849 ,  881.5745269, 1093.890323 ,  699.5570904,\n",
              "        768.4079542, 1071.822948 ,  944.1958631,  976.787165 ,\n",
              "        737.2189227, 1093.888926 ,  643.5861992,  741.4750297,\n",
              "        706.8307297,  419.3984616, 1100.709911 ,  937.876582 ,\n",
              "        988.1761255,  958.3420757,  684.4681665,  981.6411336,\n",
              "        678.8122681,  725.999535 ,  915.5296135,  768.2097349,\n",
              "        645.578578 ,  706.474211 , 1110.431416 ,  746.1348731,\n",
              "       1038.580913 ,  662.9250331,  802.0775466,  808.5084033,\n",
              "        827.4618849,  923.3277846, 1022.666939 , 1071.884344 ,\n",
              "        619.1209406,  872.2006372,  922.3506978,  843.3373224,\n",
              "        837.1269164,  825.9901294,  725.0627007,  851.8022528,\n",
              "       1024.044375 ,  859.3160348, 1077.234765 ,  805.9493894,\n",
              "        922.8050929,  829.8594545,  890.8516006,  793.6194213,\n",
              "        769.1189366,  568.3173733, 1054.461007 , 1020.365472 ,\n",
              "       1239.031685 ,  944.6381532, 1168.092184 , 1050.075759 ,\n",
              "        970.6586024,  819.6247158,  886.0937726,  829.5437736,\n",
              "        727.312402 , 1061.051341 ,  520.2643147,  869.8267838,\n",
              "        907.6682325, 1072.318978 ,  929.2380054,  773.4131421,\n",
              "        914.1280465, 1068.515289 ,  807.6083574,  662.8884449,\n",
              "        641.1683019,  554.114484 ,  754.5802194, 1065.398566 ,\n",
              "        693.0874733,  645.6101669,  896.0858357,  852.6929258,\n",
              "        933.7138055,  929.5359808, 1145.968461 ,  992.7900877,\n",
              "       1116.113196 ,  481.8334067,  719.5724178, 1162.890359 ,\n",
              "        853.5961537, 1010.770224 , 1224.534222 ,  993.7933125,\n",
              "        852.6573441,  906.7237959,  761.4223593,  967.9846062,\n",
              "        671.8852272,  924.2250735, 1049.984567 ,  748.1022413,\n",
              "        744.5945589,  703.3163475,  720.2573123,  640.2957412,\n",
              "        959.2275201,  829.6511062,  667.3945719,  743.2736323,\n",
              "        886.0465092,  824.0586726,  894.7719293,  785.2274264,\n",
              "        981.1621616,  950.8166225,  572.8804223,  780.8715318,\n",
              "        719.873633 ,  778.1894898, 1069.902412 ,  860.2147525,\n",
              "        586.0655434,  768.9266859, 1248.566679 ,  787.1451212,\n",
              "       1115.291836 ,  952.8728707, 1070.73321  , 1068.296866 ,\n",
              "        796.4941845,  961.2003644,  763.971162 ,  870.1696257,\n",
              "        924.2545716,  917.828597 ,  879.75909  ,  773.0481454,\n",
              "        805.5599842,  828.001528 , 1134.017761 ,  766.3320251,\n",
              "        712.2061801,  556.9240016])"
            ]
          },
          "metadata": {},
          "execution_count": 28
        }
      ]
    },
    {
      "cell_type": "code",
      "metadata": {
        "colab": {
          "base_uri": "https://localhost:8080/"
        },
        "id": "cx3pWtk27zOh",
        "outputId": "1f1d59d3-7d0c-41e6-ba50-3de60caebcfc"
      },
      "source": [
        "y_train.shape"
      ],
      "execution_count": 29,
      "outputs": [
        {
          "output_type": "execute_result",
          "data": {
            "text/plain": [
              "(670,)"
            ]
          },
          "metadata": {},
          "execution_count": 29
        }
      ]
    },
    {
      "cell_type": "code",
      "metadata": {
        "colab": {
          "base_uri": "https://localhost:8080/"
        },
        "id": "8v_v_KFE71oe",
        "outputId": "b6a841c6-b408-4d3f-ebcb-d8b5ceabcedf"
      },
      "source": [
        "y_test.shape"
      ],
      "execution_count": 30,
      "outputs": [
        {
          "output_type": "execute_result",
          "data": {
            "text/plain": [
              "(330,)"
            ]
          },
          "metadata": {},
          "execution_count": 30
        }
      ]
    },
    {
      "cell_type": "markdown",
      "metadata": {
        "id": "XBOVtkCh8HV6"
      },
      "source": [
        "## **Veriyi modellemeden önce scaling işlemi yapmamız gerekir**"
      ]
    },
    {
      "cell_type": "code",
      "metadata": {
        "id": "lN52HUDY73aY"
      },
      "source": [
        "from sklearn.preprocessing import MinMaxScaler"
      ],
      "execution_count": 31,
      "outputs": []
    },
    {
      "cell_type": "code",
      "metadata": {
        "id": "k2xYfMCD8R98"
      },
      "source": [
        "scaler = MinMaxScaler()"
      ],
      "execution_count": 32,
      "outputs": []
    },
    {
      "cell_type": "code",
      "metadata": {
        "colab": {
          "base_uri": "https://localhost:8080/"
        },
        "id": "CwQ-zAHV8khi",
        "outputId": "c968a2dd-dc5c-4f9c-b4dc-9f38d4cd66f1"
      },
      "source": [
        "scaler.fit(x_train)"
      ],
      "execution_count": 33,
      "outputs": [
        {
          "output_type": "execute_result",
          "data": {
            "text/plain": [
              "MinMaxScaler(copy=True, feature_range=(0, 1))"
            ]
          },
          "metadata": {},
          "execution_count": 33
        }
      ]
    },
    {
      "cell_type": "code",
      "metadata": {
        "id": "IvXDRfS98h5Q"
      },
      "source": [
        "x_train = scaler.transform(x_train)\n",
        "x_test = scaler.transform(x_test)"
      ],
      "execution_count": 34,
      "outputs": []
    },
    {
      "cell_type": "code",
      "metadata": {
        "colab": {
          "base_uri": "https://localhost:8080/"
        },
        "id": "ZpC6sa6j844m",
        "outputId": "54a279cc-188a-492a-a666-18378f2b5603"
      },
      "source": [
        "x_train"
      ],
      "execution_count": 35,
      "outputs": [
        {
          "output_type": "execute_result",
          "data": {
            "text/plain": [
              "array([[0.3177906 , 0.64341466],\n",
              "       [0.61991638, 0.89583174],\n",
              "       [0.53950097, 0.0980286 ],\n",
              "       ...,\n",
              "       [0.2352117 , 0.52644765],\n",
              "       [0.7576794 , 0.19157421],\n",
              "       [0.4292982 , 0.16530301]])"
            ]
          },
          "metadata": {},
          "execution_count": 35
        }
      ]
    },
    {
      "cell_type": "code",
      "metadata": {
        "id": "JWxUKUzz88SN"
      },
      "source": [
        "import tensorflow as tf"
      ],
      "execution_count": 37,
      "outputs": []
    },
    {
      "cell_type": "code",
      "metadata": {
        "id": "1n11NbIq9ece"
      },
      "source": [
        "from tensorflow.keras.models import Sequential \n",
        "from tensorflow.keras.layers import Dense"
      ],
      "execution_count": 38,
      "outputs": []
    },
    {
      "cell_type": "markdown",
      "metadata": {
        "id": "s4sfXfU8-gg4"
      },
      "source": [
        "## **Model oluşturma**"
      ]
    },
    {
      "cell_type": "code",
      "metadata": {
        "id": "N5qZE2cL9qQW"
      },
      "source": [
        "model = Sequential()\n",
        "\n",
        "model.add(Dense(4,activation='relu'))\n",
        "model.add(Dense(4,activation='relu'))\n",
        "model.add(Dense(4,activation='relu'))\n",
        "\n",
        "model.add(Dense(1))\n",
        "\n",
        "model.compile(optimizer = 'rmsprop', loss = 'mse')"
      ],
      "execution_count": 39,
      "outputs": []
    },
    {
      "cell_type": "markdown",
      "metadata": {
        "id": "L-WIsASc_Yf2"
      },
      "source": [
        "## **Model eğitme kısmı**"
      ]
    },
    {
      "cell_type": "code",
      "metadata": {
        "colab": {
          "base_uri": "https://localhost:8080/"
        },
        "id": "Wtm38oxt_XUX",
        "outputId": "c54eec3e-bbc5-485e-ee46-d0c69d6a520a"
      },
      "source": [
        "model.fit(x_train,y_train,epochs=250)"
      ],
      "execution_count": 40,
      "outputs": [
        {
          "output_type": "stream",
          "name": "stdout",
          "text": [
            "Epoch 1/250\n",
            "21/21 [==============================] - 1s 2ms/step - loss: 795922.3125\n",
            "Epoch 2/250\n",
            "21/21 [==============================] - 0s 1ms/step - loss: 795796.2500\n",
            "Epoch 3/250\n",
            "21/21 [==============================] - 0s 1ms/step - loss: 795694.6875\n",
            "Epoch 4/250\n",
            "21/21 [==============================] - 0s 2ms/step - loss: 795586.1250\n",
            "Epoch 5/250\n",
            "21/21 [==============================] - 0s 2ms/step - loss: 795468.5000\n",
            "Epoch 6/250\n",
            "21/21 [==============================] - 0s 1ms/step - loss: 795342.3125\n",
            "Epoch 7/250\n",
            "21/21 [==============================] - 0s 2ms/step - loss: 795207.2500\n",
            "Epoch 8/250\n",
            "21/21 [==============================] - 0s 2ms/step - loss: 795062.8750\n",
            "Epoch 9/250\n",
            "21/21 [==============================] - 0s 2ms/step - loss: 794907.2500\n",
            "Epoch 10/250\n",
            "21/21 [==============================] - 0s 2ms/step - loss: 794742.3750\n",
            "Epoch 11/250\n",
            "21/21 [==============================] - 0s 2ms/step - loss: 794565.8750\n",
            "Epoch 12/250\n",
            "21/21 [==============================] - 0s 2ms/step - loss: 794379.1250\n",
            "Epoch 13/250\n",
            "21/21 [==============================] - 0s 2ms/step - loss: 794179.9375\n",
            "Epoch 14/250\n",
            "21/21 [==============================] - 0s 2ms/step - loss: 793965.6875\n",
            "Epoch 15/250\n",
            "21/21 [==============================] - 0s 1ms/step - loss: 793739.3750\n",
            "Epoch 16/250\n",
            "21/21 [==============================] - 0s 1ms/step - loss: 793497.7500\n",
            "Epoch 17/250\n",
            "21/21 [==============================] - 0s 2ms/step - loss: 793241.3125\n",
            "Epoch 18/250\n",
            "21/21 [==============================] - 0s 2ms/step - loss: 792968.7500\n",
            "Epoch 19/250\n",
            "21/21 [==============================] - 0s 2ms/step - loss: 792680.2500\n",
            "Epoch 20/250\n",
            "21/21 [==============================] - 0s 2ms/step - loss: 792373.5000\n",
            "Epoch 21/250\n",
            "21/21 [==============================] - 0s 2ms/step - loss: 792047.6875\n",
            "Epoch 22/250\n",
            "21/21 [==============================] - 0s 2ms/step - loss: 791704.0625\n",
            "Epoch 23/250\n",
            "21/21 [==============================] - 0s 2ms/step - loss: 791341.0625\n",
            "Epoch 24/250\n",
            "21/21 [==============================] - 0s 2ms/step - loss: 790957.5625\n",
            "Epoch 25/250\n",
            "21/21 [==============================] - 0s 2ms/step - loss: 790551.5000\n",
            "Epoch 26/250\n",
            "21/21 [==============================] - 0s 1ms/step - loss: 790122.5625\n",
            "Epoch 27/250\n",
            "21/21 [==============================] - 0s 1ms/step - loss: 789670.5625\n",
            "Epoch 28/250\n",
            "21/21 [==============================] - 0s 2ms/step - loss: 789194.8125\n",
            "Epoch 29/250\n",
            "21/21 [==============================] - 0s 2ms/step - loss: 788694.8750\n",
            "Epoch 30/250\n",
            "21/21 [==============================] - 0s 2ms/step - loss: 788170.1250\n",
            "Epoch 31/250\n",
            "21/21 [==============================] - 0s 2ms/step - loss: 787618.3125\n",
            "Epoch 32/250\n",
            "21/21 [==============================] - 0s 2ms/step - loss: 787039.7500\n",
            "Epoch 33/250\n",
            "21/21 [==============================] - 0s 1ms/step - loss: 786430.6875\n",
            "Epoch 34/250\n",
            "21/21 [==============================] - 0s 1ms/step - loss: 785793.0625\n",
            "Epoch 35/250\n",
            "21/21 [==============================] - 0s 1ms/step - loss: 785123.9375\n",
            "Epoch 36/250\n",
            "21/21 [==============================] - 0s 1ms/step - loss: 784420.5625\n",
            "Epoch 37/250\n",
            "21/21 [==============================] - 0s 1ms/step - loss: 783689.9375\n",
            "Epoch 38/250\n",
            "21/21 [==============================] - 0s 1ms/step - loss: 782921.0625\n",
            "Epoch 39/250\n",
            "21/21 [==============================] - 0s 2ms/step - loss: 782118.3750\n",
            "Epoch 40/250\n",
            "21/21 [==============================] - 0s 1ms/step - loss: 781285.1875\n",
            "Epoch 41/250\n",
            "21/21 [==============================] - 0s 1ms/step - loss: 780410.5000\n",
            "Epoch 42/250\n",
            "21/21 [==============================] - 0s 1ms/step - loss: 779494.6250\n",
            "Epoch 43/250\n",
            "21/21 [==============================] - 0s 1ms/step - loss: 778544.1250\n",
            "Epoch 44/250\n",
            "21/21 [==============================] - 0s 2ms/step - loss: 777558.0000\n",
            "Epoch 45/250\n",
            "21/21 [==============================] - 0s 2ms/step - loss: 776530.5000\n",
            "Epoch 46/250\n",
            "21/21 [==============================] - 0s 2ms/step - loss: 775456.3125\n",
            "Epoch 47/250\n",
            "21/21 [==============================] - 0s 2ms/step - loss: 774334.6875\n",
            "Epoch 48/250\n",
            "21/21 [==============================] - 0s 2ms/step - loss: 773173.3750\n",
            "Epoch 49/250\n",
            "21/21 [==============================] - 0s 2ms/step - loss: 771961.9375\n",
            "Epoch 50/250\n",
            "21/21 [==============================] - 0s 2ms/step - loss: 770710.7500\n",
            "Epoch 51/250\n",
            "21/21 [==============================] - 0s 2ms/step - loss: 769411.6875\n",
            "Epoch 52/250\n",
            "21/21 [==============================] - 0s 1ms/step - loss: 768066.7500\n",
            "Epoch 53/250\n",
            "21/21 [==============================] - 0s 2ms/step - loss: 766662.9375\n",
            "Epoch 54/250\n",
            "21/21 [==============================] - 0s 1ms/step - loss: 765214.0000\n",
            "Epoch 55/250\n",
            "21/21 [==============================] - 0s 1ms/step - loss: 763719.1875\n",
            "Epoch 56/250\n",
            "21/21 [==============================] - 0s 1ms/step - loss: 762167.0000\n",
            "Epoch 57/250\n",
            "21/21 [==============================] - 0s 2ms/step - loss: 760553.6250\n",
            "Epoch 58/250\n",
            "21/21 [==============================] - 0s 1ms/step - loss: 758881.5000\n",
            "Epoch 59/250\n",
            "21/21 [==============================] - 0s 1ms/step - loss: 757153.7500\n",
            "Epoch 60/250\n",
            "21/21 [==============================] - 0s 2ms/step - loss: 755375.7500\n",
            "Epoch 61/250\n",
            "21/21 [==============================] - 0s 2ms/step - loss: 753538.7500\n",
            "Epoch 62/250\n",
            "21/21 [==============================] - 0s 1ms/step - loss: 751638.5625\n",
            "Epoch 63/250\n",
            "21/21 [==============================] - 0s 2ms/step - loss: 749674.0000\n",
            "Epoch 64/250\n",
            "21/21 [==============================] - 0s 2ms/step - loss: 747643.8750\n",
            "Epoch 65/250\n",
            "21/21 [==============================] - 0s 2ms/step - loss: 745551.7500\n",
            "Epoch 66/250\n",
            "21/21 [==============================] - 0s 1ms/step - loss: 743397.3750\n",
            "Epoch 67/250\n",
            "21/21 [==============================] - 0s 1ms/step - loss: 741186.7500\n",
            "Epoch 68/250\n",
            "21/21 [==============================] - 0s 2ms/step - loss: 738899.7500\n",
            "Epoch 69/250\n",
            "21/21 [==============================] - 0s 2ms/step - loss: 736529.8125\n",
            "Epoch 70/250\n",
            "21/21 [==============================] - 0s 2ms/step - loss: 734095.0625\n",
            "Epoch 71/250\n",
            "21/21 [==============================] - 0s 2ms/step - loss: 731586.9375\n",
            "Epoch 72/250\n",
            "21/21 [==============================] - 0s 2ms/step - loss: 729021.7500\n",
            "Epoch 73/250\n",
            "21/21 [==============================] - 0s 2ms/step - loss: 726372.7500\n",
            "Epoch 74/250\n",
            "21/21 [==============================] - 0s 2ms/step - loss: 723655.7500\n",
            "Epoch 75/250\n",
            "21/21 [==============================] - 0s 1ms/step - loss: 720855.1250\n",
            "Epoch 76/250\n",
            "21/21 [==============================] - 0s 1ms/step - loss: 717988.5000\n",
            "Epoch 77/250\n",
            "21/21 [==============================] - 0s 2ms/step - loss: 715026.1250\n",
            "Epoch 78/250\n",
            "21/21 [==============================] - 0s 2ms/step - loss: 711992.1875\n",
            "Epoch 79/250\n",
            "21/21 [==============================] - 0s 2ms/step - loss: 708881.6875\n",
            "Epoch 80/250\n",
            "21/21 [==============================] - 0s 1ms/step - loss: 705674.1250\n",
            "Epoch 81/250\n",
            "21/21 [==============================] - 0s 2ms/step - loss: 702396.8750\n",
            "Epoch 82/250\n",
            "21/21 [==============================] - 0s 2ms/step - loss: 699043.1875\n",
            "Epoch 83/250\n",
            "21/21 [==============================] - 0s 2ms/step - loss: 695584.4375\n",
            "Epoch 84/250\n",
            "21/21 [==============================] - 0s 2ms/step - loss: 692044.0000\n",
            "Epoch 85/250\n",
            "21/21 [==============================] - 0s 2ms/step - loss: 688429.9375\n",
            "Epoch 86/250\n",
            "21/21 [==============================] - 0s 1ms/step - loss: 684740.0000\n",
            "Epoch 87/250\n",
            "21/21 [==============================] - 0s 2ms/step - loss: 680944.6875\n",
            "Epoch 88/250\n",
            "21/21 [==============================] - 0s 2ms/step - loss: 677072.8750\n",
            "Epoch 89/250\n",
            "21/21 [==============================] - 0s 1ms/step - loss: 673093.4375\n",
            "Epoch 90/250\n",
            "21/21 [==============================] - 0s 2ms/step - loss: 669034.1250\n",
            "Epoch 91/250\n",
            "21/21 [==============================] - 0s 1ms/step - loss: 664872.6250\n",
            "Epoch 92/250\n",
            "21/21 [==============================] - 0s 2ms/step - loss: 660620.1250\n",
            "Epoch 93/250\n",
            "21/21 [==============================] - 0s 2ms/step - loss: 656279.0000\n",
            "Epoch 94/250\n",
            "21/21 [==============================] - 0s 1ms/step - loss: 651858.1250\n",
            "Epoch 95/250\n",
            "21/21 [==============================] - 0s 1ms/step - loss: 647298.5625\n",
            "Epoch 96/250\n",
            "21/21 [==============================] - 0s 2ms/step - loss: 642671.0625\n",
            "Epoch 97/250\n",
            "21/21 [==============================] - 0s 1ms/step - loss: 637928.5000\n",
            "Epoch 98/250\n",
            "21/21 [==============================] - 0s 2ms/step - loss: 633121.2500\n",
            "Epoch 99/250\n",
            "21/21 [==============================] - 0s 2ms/step - loss: 628204.7500\n",
            "Epoch 100/250\n",
            "21/21 [==============================] - 0s 2ms/step - loss: 623192.1875\n",
            "Epoch 101/250\n",
            "21/21 [==============================] - 0s 2ms/step - loss: 618077.3750\n",
            "Epoch 102/250\n",
            "21/21 [==============================] - 0s 1ms/step - loss: 612853.3750\n",
            "Epoch 103/250\n",
            "21/21 [==============================] - 0s 2ms/step - loss: 607538.2500\n",
            "Epoch 104/250\n",
            "21/21 [==============================] - 0s 1ms/step - loss: 602138.6250\n",
            "Epoch 105/250\n",
            "21/21 [==============================] - 0s 1ms/step - loss: 596588.6875\n",
            "Epoch 106/250\n",
            "21/21 [==============================] - 0s 2ms/step - loss: 590993.3750\n",
            "Epoch 107/250\n",
            "21/21 [==============================] - 0s 2ms/step - loss: 585307.1875\n",
            "Epoch 108/250\n",
            "21/21 [==============================] - 0s 2ms/step - loss: 579487.6875\n",
            "Epoch 109/250\n",
            "21/21 [==============================] - 0s 2ms/step - loss: 573588.1250\n",
            "Epoch 110/250\n",
            "21/21 [==============================] - 0s 2ms/step - loss: 567589.8125\n",
            "Epoch 111/250\n",
            "21/21 [==============================] - 0s 2ms/step - loss: 561481.6250\n",
            "Epoch 112/250\n",
            "21/21 [==============================] - 0s 2ms/step - loss: 555265.5000\n",
            "Epoch 113/250\n",
            "21/21 [==============================] - 0s 1ms/step - loss: 548946.4375\n",
            "Epoch 114/250\n",
            "21/21 [==============================] - 0s 2ms/step - loss: 542533.9375\n",
            "Epoch 115/250\n",
            "21/21 [==============================] - 0s 2ms/step - loss: 536048.5000\n",
            "Epoch 116/250\n",
            "21/21 [==============================] - 0s 1ms/step - loss: 529483.3750\n",
            "Epoch 117/250\n",
            "21/21 [==============================] - 0s 1ms/step - loss: 522795.7500\n",
            "Epoch 118/250\n",
            "21/21 [==============================] - 0s 2ms/step - loss: 515983.0000\n",
            "Epoch 119/250\n",
            "21/21 [==============================] - 0s 2ms/step - loss: 509111.6875\n",
            "Epoch 120/250\n",
            "21/21 [==============================] - 0s 2ms/step - loss: 502142.1250\n",
            "Epoch 121/250\n",
            "21/21 [==============================] - 0s 2ms/step - loss: 495058.1875\n",
            "Epoch 122/250\n",
            "21/21 [==============================] - 0s 2ms/step - loss: 487869.3750\n",
            "Epoch 123/250\n",
            "21/21 [==============================] - 0s 1ms/step - loss: 480640.9062\n",
            "Epoch 124/250\n",
            "21/21 [==============================] - 0s 2ms/step - loss: 473292.0312\n",
            "Epoch 125/250\n",
            "21/21 [==============================] - 0s 1ms/step - loss: 465876.0000\n",
            "Epoch 126/250\n",
            "21/21 [==============================] - 0s 2ms/step - loss: 458372.3438\n",
            "Epoch 127/250\n",
            "21/21 [==============================] - 0s 2ms/step - loss: 450772.0938\n",
            "Epoch 128/250\n",
            "21/21 [==============================] - 0s 2ms/step - loss: 443132.7188\n",
            "Epoch 129/250\n",
            "21/21 [==============================] - 0s 2ms/step - loss: 435354.4062\n",
            "Epoch 130/250\n",
            "21/21 [==============================] - 0s 2ms/step - loss: 427512.1250\n",
            "Epoch 131/250\n",
            "21/21 [==============================] - 0s 2ms/step - loss: 419591.9375\n",
            "Epoch 132/250\n",
            "21/21 [==============================] - 0s 2ms/step - loss: 411630.2188\n",
            "Epoch 133/250\n",
            "21/21 [==============================] - 0s 2ms/step - loss: 403582.9375\n",
            "Epoch 134/250\n",
            "21/21 [==============================] - 0s 2ms/step - loss: 395483.0312\n",
            "Epoch 135/250\n",
            "21/21 [==============================] - 0s 1ms/step - loss: 387269.0312\n",
            "Epoch 136/250\n",
            "21/21 [==============================] - 0s 2ms/step - loss: 379011.0000\n",
            "Epoch 137/250\n",
            "21/21 [==============================] - 0s 2ms/step - loss: 370712.0625\n",
            "Epoch 138/250\n",
            "21/21 [==============================] - 0s 2ms/step - loss: 362342.6875\n",
            "Epoch 139/250\n",
            "21/21 [==============================] - 0s 1ms/step - loss: 353948.4688\n",
            "Epoch 140/250\n",
            "21/21 [==============================] - 0s 2ms/step - loss: 345475.0625\n",
            "Epoch 141/250\n",
            "21/21 [==============================] - 0s 1ms/step - loss: 336970.3125\n",
            "Epoch 142/250\n",
            "21/21 [==============================] - 0s 2ms/step - loss: 328398.6875\n",
            "Epoch 143/250\n",
            "21/21 [==============================] - 0s 1ms/step - loss: 319843.0938\n",
            "Epoch 144/250\n",
            "21/21 [==============================] - 0s 2ms/step - loss: 311216.2500\n",
            "Epoch 145/250\n",
            "21/21 [==============================] - 0s 2ms/step - loss: 302580.9375\n",
            "Epoch 146/250\n",
            "21/21 [==============================] - 0s 1ms/step - loss: 293920.1562\n",
            "Epoch 147/250\n",
            "21/21 [==============================] - 0s 1ms/step - loss: 285230.1250\n",
            "Epoch 148/250\n",
            "21/21 [==============================] - 0s 1ms/step - loss: 276511.7500\n",
            "Epoch 149/250\n",
            "21/21 [==============================] - 0s 2ms/step - loss: 267853.8750\n",
            "Epoch 150/250\n",
            "21/21 [==============================] - 0s 1ms/step - loss: 259144.1406\n",
            "Epoch 151/250\n",
            "21/21 [==============================] - 0s 1ms/step - loss: 250413.1562\n",
            "Epoch 152/250\n",
            "21/21 [==============================] - 0s 1ms/step - loss: 241731.8750\n",
            "Epoch 153/250\n",
            "21/21 [==============================] - 0s 1ms/step - loss: 233076.7031\n",
            "Epoch 154/250\n",
            "21/21 [==============================] - 0s 2ms/step - loss: 224444.4375\n",
            "Epoch 155/250\n",
            "21/21 [==============================] - 0s 2ms/step - loss: 215808.4844\n",
            "Epoch 156/250\n",
            "21/21 [==============================] - 0s 2ms/step - loss: 207214.0938\n",
            "Epoch 157/250\n",
            "21/21 [==============================] - 0s 2ms/step - loss: 198678.0469\n",
            "Epoch 158/250\n",
            "21/21 [==============================] - 0s 1ms/step - loss: 190216.2500\n",
            "Epoch 159/250\n",
            "21/21 [==============================] - 0s 1ms/step - loss: 181762.1406\n",
            "Epoch 160/250\n",
            "21/21 [==============================] - 0s 2ms/step - loss: 173423.4688\n",
            "Epoch 161/250\n",
            "21/21 [==============================] - 0s 2ms/step - loss: 165189.9531\n",
            "Epoch 162/250\n",
            "21/21 [==============================] - 0s 2ms/step - loss: 157034.3594\n",
            "Epoch 163/250\n",
            "21/21 [==============================] - 0s 2ms/step - loss: 148926.6094\n",
            "Epoch 164/250\n",
            "21/21 [==============================] - 0s 2ms/step - loss: 140936.5312\n",
            "Epoch 165/250\n",
            "21/21 [==============================] - 0s 1ms/step - loss: 133072.0781\n",
            "Epoch 166/250\n",
            "21/21 [==============================] - 0s 2ms/step - loss: 125308.8516\n",
            "Epoch 167/250\n",
            "21/21 [==============================] - 0s 2ms/step - loss: 117696.7266\n",
            "Epoch 168/250\n",
            "21/21 [==============================] - 0s 1ms/step - loss: 110223.7031\n",
            "Epoch 169/250\n",
            "21/21 [==============================] - 0s 1ms/step - loss: 102868.7266\n",
            "Epoch 170/250\n",
            "21/21 [==============================] - 0s 1ms/step - loss: 95710.6484\n",
            "Epoch 171/250\n",
            "21/21 [==============================] - 0s 2ms/step - loss: 88737.2500\n",
            "Epoch 172/250\n",
            "21/21 [==============================] - 0s 2ms/step - loss: 81932.1172\n",
            "Epoch 173/250\n",
            "21/21 [==============================] - 0s 2ms/step - loss: 75334.5547\n",
            "Epoch 174/250\n",
            "21/21 [==============================] - 0s 2ms/step - loss: 68988.6641\n",
            "Epoch 175/250\n",
            "21/21 [==============================] - 0s 2ms/step - loss: 62822.9141\n",
            "Epoch 176/250\n",
            "21/21 [==============================] - 0s 2ms/step - loss: 56892.5430\n",
            "Epoch 177/250\n",
            "21/21 [==============================] - 0s 2ms/step - loss: 51209.3203\n",
            "Epoch 178/250\n",
            "21/21 [==============================] - 0s 2ms/step - loss: 45775.5391\n",
            "Epoch 179/250\n",
            "21/21 [==============================] - 0s 1ms/step - loss: 40649.6836\n",
            "Epoch 180/250\n",
            "21/21 [==============================] - 0s 2ms/step - loss: 35830.0625\n",
            "Epoch 181/250\n",
            "21/21 [==============================] - 0s 2ms/step - loss: 31303.5586\n",
            "Epoch 182/250\n",
            "21/21 [==============================] - 0s 2ms/step - loss: 27085.6055\n",
            "Epoch 183/250\n",
            "21/21 [==============================] - 0s 2ms/step - loss: 23210.4902\n",
            "Epoch 184/250\n",
            "21/21 [==============================] - 0s 1ms/step - loss: 19689.9648\n",
            "Epoch 185/250\n",
            "21/21 [==============================] - 0s 1ms/step - loss: 16454.6289\n",
            "Epoch 186/250\n",
            "21/21 [==============================] - 0s 2ms/step - loss: 13667.4062\n",
            "Epoch 187/250\n",
            "21/21 [==============================] - 0s 2ms/step - loss: 11257.8564\n",
            "Epoch 188/250\n",
            "21/21 [==============================] - 0s 1ms/step - loss: 9219.6406\n",
            "Epoch 189/250\n",
            "21/21 [==============================] - 0s 2ms/step - loss: 7610.4976\n",
            "Epoch 190/250\n",
            "21/21 [==============================] - 0s 1ms/step - loss: 6404.9023\n",
            "Epoch 191/250\n",
            "21/21 [==============================] - 0s 2ms/step - loss: 5565.9653\n",
            "Epoch 192/250\n",
            "21/21 [==============================] - 0s 2ms/step - loss: 5080.3140\n",
            "Epoch 193/250\n",
            "21/21 [==============================] - 0s 2ms/step - loss: 4868.7256\n",
            "Epoch 194/250\n",
            "21/21 [==============================] - 0s 2ms/step - loss: 4783.5649\n",
            "Epoch 195/250\n",
            "21/21 [==============================] - 0s 2ms/step - loss: 4736.1240\n",
            "Epoch 196/250\n",
            "21/21 [==============================] - 0s 2ms/step - loss: 4692.3369\n",
            "Epoch 197/250\n",
            "21/21 [==============================] - 0s 2ms/step - loss: 4652.4785\n",
            "Epoch 198/250\n",
            "21/21 [==============================] - 0s 2ms/step - loss: 4602.6504\n",
            "Epoch 199/250\n",
            "21/21 [==============================] - 0s 1ms/step - loss: 4558.6465\n",
            "Epoch 200/250\n",
            "21/21 [==============================] - 0s 2ms/step - loss: 4516.6138\n",
            "Epoch 201/250\n",
            "21/21 [==============================] - 0s 2ms/step - loss: 4478.1924\n",
            "Epoch 202/250\n",
            "21/21 [==============================] - 0s 2ms/step - loss: 4437.5615\n",
            "Epoch 203/250\n",
            "21/21 [==============================] - 0s 1ms/step - loss: 4396.7788\n",
            "Epoch 204/250\n",
            "21/21 [==============================] - 0s 1ms/step - loss: 4364.0283\n",
            "Epoch 205/250\n",
            "21/21 [==============================] - 0s 2ms/step - loss: 4328.4595\n",
            "Epoch 206/250\n",
            "21/21 [==============================] - 0s 2ms/step - loss: 4287.1030\n",
            "Epoch 207/250\n",
            "21/21 [==============================] - 0s 2ms/step - loss: 4247.9731\n",
            "Epoch 208/250\n",
            "21/21 [==============================] - 0s 2ms/step - loss: 4206.4282\n",
            "Epoch 209/250\n",
            "21/21 [==============================] - 0s 2ms/step - loss: 4166.1665\n",
            "Epoch 210/250\n",
            "21/21 [==============================] - 0s 1ms/step - loss: 4118.4717\n",
            "Epoch 211/250\n",
            "21/21 [==============================] - 0s 2ms/step - loss: 4075.3057\n",
            "Epoch 212/250\n",
            "21/21 [==============================] - 0s 2ms/step - loss: 4039.5281\n",
            "Epoch 213/250\n",
            "21/21 [==============================] - 0s 2ms/step - loss: 4004.6399\n",
            "Epoch 214/250\n",
            "21/21 [==============================] - 0s 2ms/step - loss: 3965.6194\n",
            "Epoch 215/250\n",
            "21/21 [==============================] - 0s 2ms/step - loss: 3923.0500\n",
            "Epoch 216/250\n",
            "21/21 [==============================] - 0s 1ms/step - loss: 3892.7227\n",
            "Epoch 217/250\n",
            "21/21 [==============================] - 0s 2ms/step - loss: 3854.5713\n",
            "Epoch 218/250\n",
            "21/21 [==============================] - 0s 2ms/step - loss: 3822.4810\n",
            "Epoch 219/250\n",
            "21/21 [==============================] - 0s 2ms/step - loss: 3786.0354\n",
            "Epoch 220/250\n",
            "21/21 [==============================] - 0s 1ms/step - loss: 3748.4790\n",
            "Epoch 221/250\n",
            "21/21 [==============================] - 0s 2ms/step - loss: 3705.4578\n",
            "Epoch 222/250\n",
            "21/21 [==============================] - 0s 1ms/step - loss: 3668.0176\n",
            "Epoch 223/250\n",
            "21/21 [==============================] - 0s 1ms/step - loss: 3632.5303\n",
            "Epoch 224/250\n",
            "21/21 [==============================] - 0s 2ms/step - loss: 3598.4045\n",
            "Epoch 225/250\n",
            "21/21 [==============================] - 0s 2ms/step - loss: 3554.9214\n",
            "Epoch 226/250\n",
            "21/21 [==============================] - 0s 2ms/step - loss: 3525.2993\n",
            "Epoch 227/250\n",
            "21/21 [==============================] - 0s 2ms/step - loss: 3490.2520\n",
            "Epoch 228/250\n",
            "21/21 [==============================] - 0s 2ms/step - loss: 3453.0652\n",
            "Epoch 229/250\n",
            "21/21 [==============================] - 0s 2ms/step - loss: 3424.5811\n",
            "Epoch 230/250\n",
            "21/21 [==============================] - 0s 2ms/step - loss: 3384.4141\n",
            "Epoch 231/250\n",
            "21/21 [==============================] - 0s 2ms/step - loss: 3343.1104\n",
            "Epoch 232/250\n",
            "21/21 [==============================] - 0s 2ms/step - loss: 3305.8557\n",
            "Epoch 233/250\n",
            "21/21 [==============================] - 0s 1ms/step - loss: 3266.6033\n",
            "Epoch 234/250\n",
            "21/21 [==============================] - 0s 1ms/step - loss: 3225.0564\n",
            "Epoch 235/250\n",
            "21/21 [==============================] - 0s 2ms/step - loss: 3189.5129\n",
            "Epoch 236/250\n",
            "21/21 [==============================] - 0s 2ms/step - loss: 3153.1926\n",
            "Epoch 237/250\n",
            "21/21 [==============================] - 0s 2ms/step - loss: 3119.3801\n",
            "Epoch 238/250\n",
            "21/21 [==============================] - 0s 2ms/step - loss: 3084.2395\n",
            "Epoch 239/250\n",
            "21/21 [==============================] - 0s 2ms/step - loss: 3040.6360\n",
            "Epoch 240/250\n",
            "21/21 [==============================] - 0s 2ms/step - loss: 3012.4094\n",
            "Epoch 241/250\n",
            "21/21 [==============================] - 0s 2ms/step - loss: 2969.2051\n",
            "Epoch 242/250\n",
            "21/21 [==============================] - 0s 2ms/step - loss: 2935.1934\n",
            "Epoch 243/250\n",
            "21/21 [==============================] - 0s 2ms/step - loss: 2900.0557\n",
            "Epoch 244/250\n",
            "21/21 [==============================] - 0s 2ms/step - loss: 2861.8835\n",
            "Epoch 245/250\n",
            "21/21 [==============================] - 0s 1ms/step - loss: 2829.7295\n",
            "Epoch 246/250\n",
            "21/21 [==============================] - 0s 2ms/step - loss: 2801.2407\n",
            "Epoch 247/250\n",
            "21/21 [==============================] - 0s 2ms/step - loss: 2765.1206\n",
            "Epoch 248/250\n",
            "21/21 [==============================] - 0s 2ms/step - loss: 2730.3416\n",
            "Epoch 249/250\n",
            "21/21 [==============================] - 0s 1ms/step - loss: 2696.8281\n",
            "Epoch 250/250\n",
            "21/21 [==============================] - 0s 1ms/step - loss: 2656.6946\n"
          ]
        },
        {
          "output_type": "execute_result",
          "data": {
            "text/plain": [
              "<keras.callbacks.History at 0x7fab8cc60290>"
            ]
          },
          "metadata": {},
          "execution_count": 40
        }
      ]
    },
    {
      "cell_type": "code",
      "metadata": {
        "id": "MNw0JjeE_6mL"
      },
      "source": [
        "loss=model.history.history['loss']"
      ],
      "execution_count": 46,
      "outputs": []
    },
    {
      "cell_type": "code",
      "metadata": {
        "colab": {
          "base_uri": "https://localhost:8080/",
          "height": 282
        },
        "id": "o2-Mke27ANbD",
        "outputId": "a221388c-5cba-4f87-f7c9-f03f7d85a732"
      },
      "source": [
        "sbn.lineplot(x=range(len(loss)),y=loss)"
      ],
      "execution_count": 47,
      "outputs": [
        {
          "output_type": "execute_result",
          "data": {
            "text/plain": [
              "<matplotlib.axes._subplots.AxesSubplot at 0x7fab8ca4d790>"
            ]
          },
          "metadata": {},
          "execution_count": 47
        },
        {
          "output_type": "display_data",
          "data": {
            "image/png": "[encoded data removed]",
            "text/plain": [
              "<Figure size 432x288 with 1 Axes>"
            ]
          },
          "metadata": {
            "needs_background": "light"
          }
        }
      ]
    },
    {
      "cell_type": "code",
      "metadata": {
        "id": "d6lcDheABA4m"
      },
      "source": [
        "train_loss = model.evaluate(x_train,y_train,verbose=0)"
      ],
      "execution_count": 50,
      "outputs": []
    },
    {
      "cell_type": "code",
      "metadata": {
        "id": "SSk0hj2MByK3"
      },
      "source": [
        "test_loss = model.evaluate(x_test,y_test,verbose=0)"
      ],
      "execution_count": 51,
      "outputs": []
    },
    {
      "cell_type": "code",
      "metadata": {
        "id": "fI5_6b6ECAYx"
      },
      "source": [
        "testTahminler = model.predict(x_test)"
      ],
      "execution_count": 54,
      "outputs": []
    },
    {
      "cell_type": "code",
      "metadata": {
        "colab": {
          "base_uri": "https://localhost:8080/"
        },
        "id": "b07zKe0SCn8w",
        "outputId": "cc04614b-b3a7-4a1f-b00c-e2da6bb4766b"
      },
      "source": [
        "testTahminler"
      ],
      "execution_count": 55,
      "outputs": [
        {
          "output_type": "execute_result",
          "data": {
            "text/plain": [
              "array([[1022.3103 ],\n",
              "       [ 710.0519 ],\n",
              "       [ 884.6947 ],\n",
              "       [ 888.03094],\n",
              "       [ 890.1485 ],\n",
              "       [ 576.4925 ],\n",
              "       [ 919.3474 ],\n",
              "       [ 959.40735],\n",
              "       [ 934.6199 ],\n",
              "       [ 979.3217 ],\n",
              "       [ 798.4689 ],\n",
              "       [ 917.6693 ],\n",
              "       [ 926.12756],\n",
              "       [1007.71606],\n",
              "       [1059.239  ],\n",
              "       [ 746.00757],\n",
              "       [1049.2871 ],\n",
              "       [ 717.9829 ],\n",
              "       [1067.1592 ],\n",
              "       [ 891.48267],\n",
              "       [ 893.94403],\n",
              "       [ 778.75555],\n",
              "       [ 600.5864 ],\n",
              "       [ 691.62415],\n",
              "       [ 858.068  ],\n",
              "       [1034.8401 ],\n",
              "       [ 768.203  ],\n",
              "       [ 797.60046],\n",
              "       [ 876.2776 ],\n",
              "       [ 807.5965 ],\n",
              "       [ 584.91205],\n",
              "       [ 822.     ],\n",
              "       [ 779.42957],\n",
              "       [ 720.1274 ],\n",
              "       [ 888.0692 ],\n",
              "       [ 858.94727],\n",
              "       [ 994.6297 ],\n",
              "       [ 978.4769 ],\n",
              "       [ 863.40234],\n",
              "       [ 870.1831 ],\n",
              "       [ 801.46454],\n",
              "       [1084.4248 ],\n",
              "       [1035.7941 ],\n",
              "       [1030.2452 ],\n",
              "       [ 888.5574 ],\n",
              "       [ 689.99567],\n",
              "       [1059.8883 ],\n",
              "       [ 944.52954],\n",
              "       [ 992.97217],\n",
              "       [ 873.4136 ],\n",
              "       [ 829.22577],\n",
              "       [ 866.5334 ],\n",
              "       [ 823.37946],\n",
              "       [ 985.6947 ],\n",
              "       [ 984.069  ],\n",
              "       [ 928.61566],\n",
              "       [ 922.6186 ],\n",
              "       [1010.5584 ],\n",
              "       [ 893.9467 ],\n",
              "       [ 973.517  ],\n",
              "       [ 818.61115],\n",
              "       [ 863.9084 ],\n",
              "       [ 768.7528 ],\n",
              "       [ 886.80963],\n",
              "       [ 950.386  ],\n",
              "       [ 755.55676],\n",
              "       [ 835.2394 ],\n",
              "       [ 832.0769 ],\n",
              "       [ 873.39014],\n",
              "       [ 846.92554],\n",
              "       [ 827.60046],\n",
              "       [ 924.55707],\n",
              "       [1009.0191 ],\n",
              "       [ 931.81396],\n",
              "       [ 964.99475],\n",
              "       [ 739.6855 ],\n",
              "       [ 721.1246 ],\n",
              "       [ 755.49713],\n",
              "       [ 883.13763],\n",
              "       [ 897.6744 ],\n",
              "       [ 949.2445 ],\n",
              "       [ 959.572  ],\n",
              "       [ 698.80444],\n",
              "       [ 871.7701 ],\n",
              "       [ 701.38324],\n",
              "       [ 946.56354],\n",
              "       [ 857.87476],\n",
              "       [ 896.4491 ],\n",
              "       [ 875.4604 ],\n",
              "       [ 716.3701 ],\n",
              "       [ 833.2505 ],\n",
              "       [ 765.5353 ],\n",
              "       [1105.4983 ],\n",
              "       [ 893.40454],\n",
              "       [ 852.80804],\n",
              "       [1041.435  ],\n",
              "       [ 868.79193],\n",
              "       [ 943.5684 ],\n",
              "       [ 941.63495],\n",
              "       [ 580.39136],\n",
              "       [ 965.26984],\n",
              "       [1010.95105],\n",
              "       [ 881.96533],\n",
              "       [1006.4706 ],\n",
              "       [ 663.8559 ],\n",
              "       [ 731.08966],\n",
              "       [ 871.76154],\n",
              "       [ 772.47565],\n",
              "       [ 916.9316 ],\n",
              "       [ 911.59576],\n",
              "       [ 773.91504],\n",
              "       [ 895.5991 ],\n",
              "       [ 952.958  ],\n",
              "       [1019.09265],\n",
              "       [ 746.41473],\n",
              "       [ 899.26044],\n",
              "       [ 866.6443 ],\n",
              "       [ 873.7414 ],\n",
              "       [ 987.2308 ],\n",
              "       [ 810.9599 ],\n",
              "       [ 772.7556 ],\n",
              "       [ 865.3066 ],\n",
              "       [1059.9902 ],\n",
              "       [ 821.5432 ],\n",
              "       [ 856.0726 ],\n",
              "       [ 897.45514],\n",
              "       [ 818.6471 ],\n",
              "       [ 921.7602 ],\n",
              "       [ 948.41754],\n",
              "       [ 910.1099 ],\n",
              "       [ 919.01105],\n",
              "       [1033.6438 ],\n",
              "       [ 994.3657 ],\n",
              "       [ 831.90753],\n",
              "       [ 794.70074],\n",
              "       [ 809.35095],\n",
              "       [ 781.17175],\n",
              "       [ 783.3614 ],\n",
              "       [ 744.31805],\n",
              "       [1057.3896 ],\n",
              "       [ 722.6921 ],\n",
              "       [ 953.9818 ],\n",
              "       [ 770.11163],\n",
              "       [ 901.1013 ],\n",
              "       [ 968.9232 ],\n",
              "       [ 699.7115 ],\n",
              "       [ 781.39825],\n",
              "       [ 815.96985],\n",
              "       [ 873.5865 ],\n",
              "       [ 784.743  ],\n",
              "       [ 663.6774 ],\n",
              "       [ 724.6109 ],\n",
              "       [ 781.2239 ],\n",
              "       [ 995.84937],\n",
              "       [1051.0758 ],\n",
              "       [ 902.98663],\n",
              "       [ 770.1152 ],\n",
              "       [ 830.292  ],\n",
              "       [ 875.1654 ],\n",
              "       [ 934.3939 ],\n",
              "       [ 694.44147],\n",
              "       [ 861.62964],\n",
              "       [ 886.32294],\n",
              "       [ 705.91003],\n",
              "       [ 916.1638 ],\n",
              "       [ 966.75635],\n",
              "       [1103.5228 ],\n",
              "       [ 842.7028 ],\n",
              "       [ 788.73737],\n",
              "       [ 938.9605 ],\n",
              "       [ 775.3564 ],\n",
              "       [ 973.2885 ],\n",
              "       [1126.7328 ],\n",
              "       [ 895.6865 ],\n",
              "       [ 886.068  ],\n",
              "       [ 720.87146],\n",
              "       [ 692.6181 ],\n",
              "       [ 793.44855],\n",
              "       [ 942.08746],\n",
              "       [ 751.3309 ],\n",
              "       [ 807.6058 ],\n",
              "       [ 837.1593 ],\n",
              "       [ 756.24774],\n",
              "       [ 914.0344 ],\n",
              "       [ 877.8691 ],\n",
              "       [ 697.6797 ],\n",
              "       [1018.9267 ],\n",
              "       [ 930.6719 ],\n",
              "       [1080.5115 ],\n",
              "       [ 816.7874 ],\n",
              "       [ 892.1877 ],\n",
              "       [ 734.72815],\n",
              "       [ 738.81903],\n",
              "       [ 784.8932 ],\n",
              "       [ 740.94147],\n",
              "       [1020.25464],\n",
              "       [ 825.16547],\n",
              "       [ 870.9249 ],\n",
              "       [1066.2434 ],\n",
              "       [ 677.343  ],\n",
              "       [ 942.71344],\n",
              "       [ 730.7884 ],\n",
              "       [ 672.08887],\n",
              "       [ 803.011  ],\n",
              "       [ 690.4755 ],\n",
              "       [ 977.82837],\n",
              "       [ 986.0968 ],\n",
              "       [ 708.3894 ],\n",
              "       [ 927.7614 ],\n",
              "       [ 843.18304],\n",
              "       [1053.059  ],\n",
              "       [ 908.91974],\n",
              "       [ 883.48315],\n",
              "       [ 957.1834 ],\n",
              "       [1001.04364],\n",
              "       [ 894.3689 ],\n",
              "       [ 869.9816 ],\n",
              "       [ 853.3366 ],\n",
              "       [ 733.689  ],\n",
              "       [1211.428  ],\n",
              "       [ 922.27386],\n",
              "       [ 642.12885],\n",
              "       [ 821.21967],\n",
              "       [ 961.4945 ],\n",
              "       [ 866.1015 ],\n",
              "       [ 828.7502 ],\n",
              "       [ 753.4608 ],\n",
              "       [ 811.9231 ],\n",
              "       [ 956.87286],\n",
              "       [ 915.5222 ],\n",
              "       [ 964.61664],\n",
              "       [ 934.8134 ],\n",
              "       [ 903.7656 ],\n",
              "       [ 796.12463],\n",
              "       [1008.61   ],\n",
              "       [1059.4786 ],\n",
              "       [ 976.66565],\n",
              "       [ 972.05524],\n",
              "       [ 970.25464],\n",
              "       [ 867.1014 ],\n",
              "       [ 972.84357],\n",
              "       [ 707.5266 ],\n",
              "       [ 897.5496 ],\n",
              "       [1018.24365],\n",
              "       [ 817.9171 ],\n",
              "       [ 669.84595],\n",
              "       [ 689.0708 ],\n",
              "       [ 969.2144 ],\n",
              "       [ 883.32886],\n",
              "       [1017.50775],\n",
              "       [ 859.5792 ],\n",
              "       [ 793.2225 ],\n",
              "       [ 646.88165],\n",
              "       [ 874.15717],\n",
              "       [ 812.3903 ],\n",
              "       [ 864.9933 ],\n",
              "       [ 887.408  ],\n",
              "       [ 901.1807 ],\n",
              "       [ 708.2165 ],\n",
              "       [ 980.92883],\n",
              "       [ 707.0506 ],\n",
              "       [ 885.12573],\n",
              "       [ 821.60626],\n",
              "       [ 912.88586],\n",
              "       [ 940.31555],\n",
              "       [ 813.2333 ],\n",
              "       [ 886.963  ],\n",
              "       [1077.1785 ],\n",
              "       [ 970.7055 ],\n",
              "       [ 863.02246],\n",
              "       [1027.5782 ],\n",
              "       [ 967.3352 ],\n",
              "       [ 673.9316 ],\n",
              "       [ 644.61584],\n",
              "       [ 956.9896 ],\n",
              "       [ 998.17584],\n",
              "       [ 936.7903 ],\n",
              "       [ 906.4684 ],\n",
              "       [ 559.38043],\n",
              "       [ 991.75543],\n",
              "       [ 918.5368 ],\n",
              "       [ 841.42175],\n",
              "       [ 922.81836],\n",
              "       [ 921.46436],\n",
              "       [ 962.24445],\n",
              "       [ 946.8033 ],\n",
              "       [ 947.6443 ],\n",
              "       [ 698.9832 ],\n",
              "       [ 941.499  ],\n",
              "       [ 954.5299 ],\n",
              "       [ 891.42993],\n",
              "       [ 871.3856 ],\n",
              "       [ 781.78485],\n",
              "       [ 923.60974],\n",
              "       [ 886.68884],\n",
              "       [ 836.19055],\n",
              "       [ 948.55133],\n",
              "       [ 844.4161 ],\n",
              "       [ 972.63165],\n",
              "       [ 700.4224 ],\n",
              "       [ 670.9751 ],\n",
              "       [ 776.1016 ],\n",
              "       [ 833.68384],\n",
              "       [ 894.8235 ],\n",
              "       [1124.0043 ],\n",
              "       [ 694.0802 ],\n",
              "       [ 994.86304],\n",
              "       [ 734.4504 ],\n",
              "       [1059.8429 ],\n",
              "       [ 831.0572 ],\n",
              "       [1109.221  ],\n",
              "       [ 812.6059 ],\n",
              "       [ 721.88995],\n",
              "       [ 880.247  ],\n",
              "       [ 910.8861 ],\n",
              "       [ 862.9    ],\n",
              "       [ 744.334  ],\n",
              "       [ 966.3794 ],\n",
              "       [1031.5723 ],\n",
              "       [ 802.2889 ],\n",
              "       [ 904.15424],\n",
              "       [1010.1902 ],\n",
              "       [ 951.18805],\n",
              "       [ 761.99054],\n",
              "       [ 688.0162 ],\n",
              "       [ 979.6579 ],\n",
              "       [ 818.5364 ],\n",
              "       [ 809.741  ],\n",
              "       [1086.754  ],\n",
              "       [ 823.9698 ]], dtype=float32)"
            ]
          },
          "metadata": {},
          "execution_count": 55
        }
      ]
    },
    {
      "cell_type": "code",
      "metadata": {
        "id": "xPXAZwGpCplO"
      },
      "source": [
        "tahminDf = pd.DataFrame(y_test,columns =['Gerçek Y Değerleri'])"
      ],
      "execution_count": 56,
      "outputs": []
    },
    {
      "cell_type": "code",
      "metadata": {
        "colab": {
          "base_uri": "https://localhost:8080/",
          "height": 417
        },
        "id": "PADJRZ0lC5FR",
        "outputId": "63a7828e-bcc1-443e-bf1c-4bbe96819780"
      },
      "source": [
        "tahminDf"
      ],
      "execution_count": 57,
      "outputs": [
        {
          "output_type": "execute_result",
          "data": {
            "text/html": [
              "<div>\n",
              "<style scoped>\n",
              "    .dataframe tbody tr th:only-of-type {\n",
              "        vertical-align: middle;\n",
              "    }\n",
              "\n",
              "    .dataframe tbody tr th {\n",
              "        vertical-align: top;\n",
              "    }\n",
              "\n",
              "    .dataframe thead th {\n",
              "        text-align: right;\n",
              "    }\n",
              "</style>\n",
              "<table border=\"1\" class=\"dataframe\">\n",
              "  <thead>\n",
              "    <tr style=\"text-align: right;\">\n",
              "      <th></th>\n",
              "      <th>Gerçek Y Değerleri</th>\n",
              "    </tr>\n",
              "  </thead>\n",
              "  <tbody>\n",
              "    <tr>\n",
              "      <th>0</th>\n",
              "      <td>1081.652164</td>\n",
              "    </tr>\n",
              "    <tr>\n",
              "      <th>1</th>\n",
              "      <td>622.675990</td>\n",
              "    </tr>\n",
              "    <tr>\n",
              "      <th>2</th>\n",
              "      <td>889.356810</td>\n",
              "    </tr>\n",
              "    <tr>\n",
              "      <th>3</th>\n",
              "      <td>902.826733</td>\n",
              "    </tr>\n",
              "    <tr>\n",
              "      <th>4</th>\n",
              "      <td>897.662404</td>\n",
              "    </tr>\n",
              "    <tr>\n",
              "      <th>...</th>\n",
              "      <td>...</td>\n",
              "    </tr>\n",
              "    <tr>\n",
              "      <th>325</th>\n",
              "      <td>1028.438035</td>\n",
              "    </tr>\n",
              "    <tr>\n",
              "      <th>326</th>\n",
              "      <td>789.934950</td>\n",
              "    </tr>\n",
              "    <tr>\n",
              "      <th>327</th>\n",
              "      <td>758.490486</td>\n",
              "    </tr>\n",
              "    <tr>\n",
              "      <th>328</th>\n",
              "      <td>1172.871659</td>\n",
              "    </tr>\n",
              "    <tr>\n",
              "      <th>329</th>\n",
              "      <td>820.947936</td>\n",
              "    </tr>\n",
              "  </tbody>\n",
              "</table>\n",
              "<p>330 rows × 1 columns</p>\n",
              "</div>"
            ],
            "text/plain": [
              "     Gerçek Y Değerleri\n",
              "0           1081.652164\n",
              "1            622.675990\n",
              "2            889.356810\n",
              "3            902.826733\n",
              "4            897.662404\n",
              "..                  ...\n",
              "325         1028.438035\n",
              "326          789.934950\n",
              "327          758.490486\n",
              "328         1172.871659\n",
              "329          820.947936\n",
              "\n",
              "[330 rows x 1 columns]"
            ]
          },
          "metadata": {},
          "execution_count": 57
        }
      ]
    },
    {
      "cell_type": "code",
      "metadata": {
        "id": "b10hUIXJC7C9"
      },
      "source": [
        "testTahminler = pd.Series(testTahminler.reshape(330,))"
      ],
      "execution_count": 60,
      "outputs": []
    },
    {
      "cell_type": "code",
      "metadata": {
        "colab": {
          "base_uri": "https://localhost:8080/"
        },
        "id": "EUzlIWotDPSz",
        "outputId": "2aebb561-3922-4c08-db19-4e1bab51250b"
      },
      "source": [
        "testTahminler"
      ],
      "execution_count": 61,
      "outputs": [
        {
          "output_type": "execute_result",
          "data": {
            "text/plain": [
              "0      1022.310303\n",
              "1       710.051880\n",
              "2       884.694702\n",
              "3       888.030945\n",
              "4       890.148499\n",
              "          ...     \n",
              "325     979.657898\n",
              "326     818.536377\n",
              "327     809.741028\n",
              "328    1086.754028\n",
              "329     823.969788\n",
              "Length: 330, dtype: float32"
            ]
          },
          "metadata": {},
          "execution_count": 61
        }
      ]
    },
    {
      "cell_type": "markdown",
      "metadata": {
        "id": "ItBKMSzKDhz3"
      },
      "source": [
        "## **Birleştirme işlemi yapacağız yani concast işlemi yapacağız.**"
      ]
    },
    {
      "cell_type": "code",
      "metadata": {
        "id": "4AG6Gd0xDebr"
      },
      "source": [
        "tahminDf = pd.concat([tahminDf,testTahminler],axis=1)"
      ],
      "execution_count": 62,
      "outputs": []
    },
    {
      "cell_type": "code",
      "metadata": {
        "id": "5jdMc25dDwir"
      },
      "source": [
        "tahminDf.columns = ['Gerçek Y Değerleri', 'Tahmin Y Değerleri']"
      ],
      "execution_count": 64,
      "outputs": []
    },
    {
      "cell_type": "code",
      "metadata": {
        "colab": {
          "base_uri": "https://localhost:8080/",
          "height": 417
        },
        "id": "sPVjzoz0DvCH",
        "outputId": "07866ed4-dc99-4be8-ed8a-6542efd79a39"
      },
      "source": [
        "tahminDf"
      ],
      "execution_count": 65,
      "outputs": [
        {
          "output_type": "execute_result",
          "data": {
            "text/html": [
              "<div>\n",
              "<style scoped>\n",
              "    .dataframe tbody tr th:only-of-type {\n",
              "        vertical-align: middle;\n",
              "    }\n",
              "\n",
              "    .dataframe tbody tr th {\n",
              "        vertical-align: top;\n",
              "    }\n",
              "\n",
              "    .dataframe thead th {\n",
              "        text-align: right;\n",
              "    }\n",
              "</style>\n",
              "<table border=\"1\" class=\"dataframe\">\n",
              "  <thead>\n",
              "    <tr style=\"text-align: right;\">\n",
              "      <th></th>\n",
              "      <th>Gerçek Y Değerleri</th>\n",
              "      <th>Tahmin Y Değerleri</th>\n",
              "    </tr>\n",
              "  </thead>\n",
              "  <tbody>\n",
              "    <tr>\n",
              "      <th>0</th>\n",
              "      <td>1081.652164</td>\n",
              "      <td>1022.310303</td>\n",
              "    </tr>\n",
              "    <tr>\n",
              "      <th>1</th>\n",
              "      <td>622.675990</td>\n",
              "      <td>710.051880</td>\n",
              "    </tr>\n",
              "    <tr>\n",
              "      <th>2</th>\n",
              "      <td>889.356810</td>\n",
              "      <td>884.694702</td>\n",
              "    </tr>\n",
              "    <tr>\n",
              "      <th>3</th>\n",
              "      <td>902.826733</td>\n",
              "      <td>888.030945</td>\n",
              "    </tr>\n",
              "    <tr>\n",
              "      <th>4</th>\n",
              "      <td>897.662404</td>\n",
              "      <td>890.148499</td>\n",
              "    </tr>\n",
              "    <tr>\n",
              "      <th>...</th>\n",
              "      <td>...</td>\n",
              "      <td>...</td>\n",
              "    </tr>\n",
              "    <tr>\n",
              "      <th>325</th>\n",
              "      <td>1028.438035</td>\n",
              "      <td>979.657898</td>\n",
              "    </tr>\n",
              "    <tr>\n",
              "      <th>326</th>\n",
              "      <td>789.934950</td>\n",
              "      <td>818.536377</td>\n",
              "    </tr>\n",
              "    <tr>\n",
              "      <th>327</th>\n",
              "      <td>758.490486</td>\n",
              "      <td>809.741028</td>\n",
              "    </tr>\n",
              "    <tr>\n",
              "      <th>328</th>\n",
              "      <td>1172.871659</td>\n",
              "      <td>1086.754028</td>\n",
              "    </tr>\n",
              "    <tr>\n",
              "      <th>329</th>\n",
              "      <td>820.947936</td>\n",
              "      <td>823.969788</td>\n",
              "    </tr>\n",
              "  </tbody>\n",
              "</table>\n",
              "<p>330 rows × 2 columns</p>\n",
              "</div>"
            ],
            "text/plain": [
              "     Gerçek Y Değerleri  Tahmin Y Değerleri\n",
              "0           1081.652164         1022.310303\n",
              "1            622.675990          710.051880\n",
              "2            889.356810          884.694702\n",
              "3            902.826733          888.030945\n",
              "4            897.662404          890.148499\n",
              "..                  ...                 ...\n",
              "325         1028.438035          979.657898\n",
              "326          789.934950          818.536377\n",
              "327          758.490486          809.741028\n",
              "328         1172.871659         1086.754028\n",
              "329          820.947936          823.969788\n",
              "\n",
              "[330 rows x 2 columns]"
            ]
          },
          "metadata": {},
          "execution_count": 65
        }
      ]
    },
    {
      "cell_type": "code",
      "metadata": {
        "colab": {
          "base_uri": "https://localhost:8080/",
          "height": 297
        },
        "id": "DrEdLgPGD8c0",
        "outputId": "2164c5db-1b5b-40a5-b4c9-f6bff7b1a7e0"
      },
      "source": [
        "sbn.scatterplot(x= 'Gerçek Y Değerleri' , y= 'Tahmin Y Değerleri', data=tahminDf)"
      ],
      "execution_count": 68,
      "outputs": [
        {
          "output_type": "execute_result",
          "data": {
            "text/plain": [
              "<matplotlib.axes._subplots.AxesSubplot at 0x7fab8a110e50>"
            ]
          },
          "metadata": {},
          "execution_count": 68
        },
        {
          "output_type": "display_data",
          "data": {
            "image/png": "[encoded data removed]",
            "text/plain": [
              "<Figure size 432x288 with 1 Axes>"
            ]
          },
          "metadata": {
            "needs_background": "light"
          }
        }
      ]
    },
    {
      "cell_type": "code",
      "metadata": {
        "id": "s_L7SYTyEjGJ"
      },
      "source": [
        "from sklearn.metrics import mean_absolute_error, mean_squared_error"
      ],
      "execution_count": 69,
      "outputs": []
    },
    {
      "cell_type": "code",
      "metadata": {
        "colab": {
          "base_uri": "https://localhost:8080/"
        },
        "id": "3ml7EsEDEyX9",
        "outputId": "8bbd3e51-5e72-4660-de9b-7f27ab10cdee"
      },
      "source": [
        "mean_absolute_error(tahminDf['Gerçek Y Değerleri'],tahminDf['Tahmin Y Değerleri'])"
      ],
      "execution_count": 70,
      "outputs": [
        {
          "output_type": "execute_result",
          "data": {
            "text/plain": [
              "40.70139446281486"
            ]
          },
          "metadata": {},
          "execution_count": 70
        }
      ]
    },
    {
      "cell_type": "code",
      "metadata": {
        "colab": {
          "base_uri": "https://localhost:8080/",
          "height": 295
        },
        "id": "GJt5Dh5mFJ-k",
        "outputId": "67c63d37-2d99-4317-edbc-a518ffcc34c6"
      },
      "source": [
        "dataFrame.describe()"
      ],
      "execution_count": 73,
      "outputs": [
        {
          "output_type": "execute_result",
          "data": {
            "text/html": [
              "<div>\n",
              "<style scoped>\n",
              "    .dataframe tbody tr th:only-of-type {\n",
              "        vertical-align: middle;\n",
              "    }\n",
              "\n",
              "    .dataframe tbody tr th {\n",
              "        vertical-align: top;\n",
              "    }\n",
              "\n",
              "    .dataframe thead th {\n",
              "        text-align: right;\n",
              "    }\n",
              "</style>\n",
              "<table border=\"1\" class=\"dataframe\">\n",
              "  <thead>\n",
              "    <tr style=\"text-align: right;\">\n",
              "      <th></th>\n",
              "      <th>Fiyat</th>\n",
              "      <th>BisikletOzellik1</th>\n",
              "      <th>BisikletOzellik2</th>\n",
              "    </tr>\n",
              "  </thead>\n",
              "  <tbody>\n",
              "    <tr>\n",
              "      <th>count</th>\n",
              "      <td>1000.000000</td>\n",
              "      <td>1000.000000</td>\n",
              "      <td>1000.000000</td>\n",
              "    </tr>\n",
              "    <tr>\n",
              "      <th>mean</th>\n",
              "      <td>872.677801</td>\n",
              "      <td>1750.024800</td>\n",
              "      <td>1749.964733</td>\n",
              "    </tr>\n",
              "    <tr>\n",
              "      <th>std</th>\n",
              "      <td>164.124504</td>\n",
              "      <td>1.704531</td>\n",
              "      <td>1.659578</td>\n",
              "    </tr>\n",
              "    <tr>\n",
              "      <th>min</th>\n",
              "      <td>390.856887</td>\n",
              "      <td>1744.852108</td>\n",
              "      <td>1744.742389</td>\n",
              "    </tr>\n",
              "    <tr>\n",
              "      <th>25%</th>\n",
              "      <td>757.795031</td>\n",
              "      <td>1748.831119</td>\n",
              "      <td>1748.803186</td>\n",
              "    </tr>\n",
              "    <tr>\n",
              "      <th>50%</th>\n",
              "      <td>879.168705</td>\n",
              "      <td>1750.017350</td>\n",
              "      <td>1750.003926</td>\n",
              "    </tr>\n",
              "    <tr>\n",
              "      <th>75%</th>\n",
              "      <td>988.612778</td>\n",
              "      <td>1751.115766</td>\n",
              "      <td>1751.129414</td>\n",
              "    </tr>\n",
              "    <tr>\n",
              "      <th>max</th>\n",
              "      <td>1355.213745</td>\n",
              "      <td>1755.613884</td>\n",
              "      <td>1754.666038</td>\n",
              "    </tr>\n",
              "  </tbody>\n",
              "</table>\n",
              "</div>"
            ],
            "text/plain": [
              "             Fiyat  BisikletOzellik1  BisikletOzellik2\n",
              "count  1000.000000       1000.000000       1000.000000\n",
              "mean    872.677801       1750.024800       1749.964733\n",
              "std     164.124504          1.704531          1.659578\n",
              "min     390.856887       1744.852108       1744.742389\n",
              "25%     757.795031       1748.831119       1748.803186\n",
              "50%     879.168705       1750.017350       1750.003926\n",
              "75%     988.612778       1751.115766       1751.129414\n",
              "max    1355.213745       1755.613884       1754.666038"
            ]
          },
          "metadata": {},
          "execution_count": 73
        }
      ]
    },
    {
      "cell_type": "code",
      "metadata": {
        "id": "dKscjLLMFp_M"
      },
      "source": [
        "yeniBisikletOzellikleri = [[1760,1758]]"
      ],
      "execution_count": 74,
      "outputs": []
    },
    {
      "cell_type": "code",
      "metadata": {
        "id": "5GRdrm4XGRBa"
      },
      "source": [
        "yeniBisikletOzellikleri = scaler.transform(yeniBisikletOzellikleri)"
      ],
      "execution_count": 75,
      "outputs": []
    },
    {
      "cell_type": "code",
      "metadata": {
        "colab": {
          "base_uri": "https://localhost:8080/"
        },
        "id": "rw7MYuKtGXwm",
        "outputId": "f77752b4-ce66-41f8-b8ad-25ec46f73ce3"
      },
      "source": [
        "model.predict(yeniBisikletOzellikleri)"
      ],
      "execution_count": 76,
      "outputs": [
        {
          "output_type": "execute_result",
          "data": {
            "text/plain": [
              "array([[1667.2561]], dtype=float32)"
            ]
          },
          "metadata": {},
          "execution_count": 76
        }
      ]
    },
    {
      "cell_type": "code",
      "metadata": {
        "id": "pkktS7r0GbSk"
      },
      "source": [
        "from tensorflow.keras.models import load_model"
      ],
      "execution_count": 77,
      "outputs": []
    },
    {
      "cell_type": "code",
      "metadata": {
        "id": "mqBY216IHJ_7"
      },
      "source": [
        "model.save('bisiklet_modeli.h5')"
      ],
      "execution_count": 78,
      "outputs": []
    },
    {
      "cell_type": "code",
      "metadata": {
        "id": "WQAhHdntHNRz"
      },
      "source": [
        "sonradanCagirilanModel= load_model('bisiklet_modeli.h5')"
      ],
      "execution_count": 79,
      "outputs": []
    },
    {
      "cell_type": "code",
      "metadata": {
        "colab": {
          "base_uri": "https://localhost:8080/"
        },
        "id": "tRQ1optoHSJl",
        "outputId": "6dba0136-7d56-4bd4-b3a3-e028812b4f23"
      },
      "source": [
        "sonradanCagirilanModel.predict(yeniBisikletOzellikleri)"
      ],
      "execution_count": 80,
      "outputs": [
        {
          "output_type": "execute_result",
          "data": {
            "text/plain": [
              "array([[1667.2561]], dtype=float32)"
            ]
          },
          "metadata": {},
          "execution_count": 80
        }
      ]
    }
  ]
}